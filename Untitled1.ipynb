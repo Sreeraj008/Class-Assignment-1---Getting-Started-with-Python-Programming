{
  "nbformat": 4,
  "nbformat_minor": 0,
  "metadata": {
    "colab": {
      "name": "Untitled1.ipynb",
      "provenance": [],
      "authorship_tag": "ABX9TyNeDGzRDsrTDwytFaFZnkH3",
      "include_colab_link": true
    },
    "kernelspec": {
      "name": "python3",
      "display_name": "Python 3"
    }
  },
  "cells": [
    {
      "cell_type": "markdown",
      "metadata": {
        "id": "view-in-github",
        "colab_type": "text"
      },
      "source": [
        "<a href=\"https://colab.research.google.com/github/Sreeraj008/Class-Assignment-1---Getting-Started-with-Python-Programming/blob/master/Untitled1.ipynb\" target=\"_parent\"><img src=\"https://colab.research.google.com/assets/colab-badge.svg\" alt=\"Open In Colab\"/></a>"
      ]
    },
    {
      "cell_type": "markdown",
      "metadata": {
        "id": "Ag8TyjlFhbQ2"
      },
      "source": [
        "In 36"
      ]
    },
    {
      "cell_type": "code",
      "metadata": {
        "id": "U54VTHFpjavR"
      },
      "source": [
        "  def CountLetters (str,letter):\n",
        "      count=0\n",
        "      index=0\n",
        "      while index<len(str):\n",
        "         if letter==str[index]:\n",
        "            count=count+1\n",
        "         index=index+1\n",
        "      return count"
      ],
      "execution_count": 2,
      "outputs": []
    },
    {
      "cell_type": "markdown",
      "metadata": {
        "id": "THwrazApkhhq"
      },
      "source": [
        " In 37"
      ]
    },
    {
      "cell_type": "code",
      "metadata": {
        "id": "QNCxVZSdlFpx",
        "outputId": "7c018b12-719a-4ae4-b0b0-85a91f89cb70",
        "colab": {
          "base_uri": "https://localhost:8080/",
          "height": 34
        }
      },
      "source": [
        "CountLetters(\"Mango\",\"n\")"
      ],
      "execution_count": 7,
      "outputs": [
        {
          "output_type": "execute_result",
          "data": {
            "text/plain": [
              "1"
            ]
          },
          "metadata": {
            "tags": []
          },
          "execution_count": 7
        }
      ]
    },
    {
      "cell_type": "markdown",
      "metadata": {
        "id": "CU6uxPWLlb9t"
      },
      "source": [
        " In 38"
      ]
    },
    {
      "cell_type": "code",
      "metadata": {
        "id": "6uQZUSQxliL_",
        "outputId": "fbf62b06-eb98-4f73-b744-5f6f7f9c8bc3",
        "colab": {
          "base_uri": "https://localhost:8080/",
          "height": 34
        }
      },
      "source": [
        "CountLetters (\"sreeraj\",\"a\")"
      ],
      "execution_count": 8,
      "outputs": [
        {
          "output_type": "execute_result",
          "data": {
            "text/plain": [
              "1"
            ]
          },
          "metadata": {
            "tags": []
          },
          "execution_count": 8
        }
      ]
    },
    {
      "cell_type": "markdown",
      "metadata": {
        "id": "lW4HLX0wmXBD"
      },
      "source": [
        " In 8"
      ]
    },
    {
      "cell_type": "code",
      "metadata": {
        "id": "u3O65xS3mx9y"
      },
      "source": [
        "def find(str, ch, index):\n",
        "  #\n",
        "  while index<len(str):\n",
        "    if str[index]== ch:\n",
        "     return index \n",
        "    index = index +1\n",
        "  return -1"
      ],
      "execution_count": 9,
      "outputs": []
    },
    {
      "cell_type": "markdown",
      "metadata": {
        "id": "f0MJyPSKoFog"
      },
      "source": [
        "In 9"
      ]
    },
    {
      "cell_type": "code",
      "metadata": {
        "id": "zxgRxEkAoG05",
        "outputId": "3048a777-723e-4f3f-e30d-9fe3c1259b1d",
        "colab": {
          "base_uri": "https://localhost:8080/",
          "height": 34
        }
      },
      "source": [
        "find('Mango','m',1)"
      ],
      "execution_count": 10,
      "outputs": [
        {
          "output_type": "execute_result",
          "data": {
            "text/plain": [
              "-1"
            ]
          },
          "metadata": {
            "tags": []
          },
          "execution_count": 10
        }
      ]
    },
    {
      "cell_type": "markdown",
      "metadata": {
        "id": "w_s-QfZPoZ1O"
      },
      "source": [
        " In 10"
      ]
    },
    {
      "cell_type": "code",
      "metadata": {
        "id": "3HbmGeeGoneb",
        "outputId": "b0cd15ec-fad8-4c4d-b7fa-1b7890fd8152",
        "colab": {
          "base_uri": "https://localhost:8080/",
          "height": 34
        }
      },
      "source": [
        " find('Maze','m',1)"
      ],
      "execution_count": 11,
      "outputs": [
        {
          "output_type": "execute_result",
          "data": {
            "text/plain": [
              "-1"
            ]
          },
          "metadata": {
            "tags": []
          },
          "execution_count": 11
        }
      ]
    }
  ]
}