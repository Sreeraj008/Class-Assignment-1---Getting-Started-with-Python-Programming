{
  "nbformat": 4,
  "nbformat_minor": 0,
  "metadata": {
    "colab": {
      "name": "SreerajK P.ipynb",
      "provenance": [],
      "authorship_tag": "ABX9TyOt83DyRanCBx2C74zJ+EZB",
      "include_colab_link": true
    },
    "kernelspec": {
      "name": "python3",
      "display_name": "Python 3"
    }
  },
  "cells": [
    {
      "cell_type": "markdown",
      "metadata": {
        "id": "view-in-github",
        "colab_type": "text"
      },
      "source": [
        "<a href=\"https://colab.research.google.com/github/Sreeraj008/Class-Assignment-1---Getting-Started-with-Python-Programming/blob/master/SreerajK_P.ipynb\" target=\"_parent\"><img src=\"https://colab.research.google.com/assets/colab-badge.svg\" alt=\"Open In Colab\"/></a>"
      ]
    },
    {
      "cell_type": "code",
      "metadata": {
        "id": "NgLB640yu6-3"
      },
      "source": [
        "2"
      ],
      "execution_count": null,
      "outputs": []
    },
    {
      "cell_type": "code",
      "metadata": {
        "id": "3r7GIWOfvBbF"
      },
      "source": [
        " from math import pi\n",
        "r=float(input(\"Enter the radius\"))\n",
        "def volume (r):\n",
        "   return 4/3*(pi*r**3)\n",
        "print(\"Volume=\",volume (r))"
      ],
      "execution_count": null,
      "outputs": []
    },
    {
      "cell_type": "markdown",
      "metadata": {
        "id": "uHH-7DCsvHu8"
      },
      "source": [
        " 3"
      ]
    },
    {
      "cell_type": "code",
      "metadata": {
        "id": "I1oz0dpUvIgn"
      },
      "source": [
        "  s=0\n",
        "n=int(input(\"Enter the limit\"))\n",
        "def sum(n):\n",
        "   while n>0:\n",
        "      for i in range(n+1):\n",
        "         s=s+i\n",
        "         return s\n",
        "print (\"The sun is \",sum(s))"
      ],
      "execution_count": null,
      "outputs": []
    },
    {
      "cell_type": "markdown",
      "metadata": {
        "id": "mNLN_46bvOZF"
      },
      "source": [
        " 4"
      ]
    },
    {
      "cell_type": "code",
      "metadata": {
        "id": "59Xm1QbkvQVO"
      },
      "source": [
        " n=int(input(\"Enter the number\"))\n",
        "square=lambda x:x**2\n",
        "print (square (n))"
      ],
      "execution_count": null,
      "outputs": []
    },
    {
      "cell_type": "markdown",
      "metadata": {
        "id": "q4gCzHlVvV-K"
      },
      "source": [
        "6 a"
      ]
    },
    {
      "cell_type": "code",
      "metadata": {
        "id": "1ixczzJQvW8S"
      },
      "source": [
        " def rev_no(n):\n",
        "   n=int(input(\"Enter the no:\"))\n",
        "   rev=0\n",
        "   rem=0\n",
        "   while(n>0):\n",
        "      rem=n%10\n",
        "      rev=(rev*10)+rem\n",
        "      sum=sum+rem\n",
        "      n=n//10\n",
        "print (\"Reverse of entered no.is\",rev)\n",
        "print (\"The sum of digits: \",sum)"
      ],
      "execution_count": null,
      "outputs": []
    },
    {
      "cell_type": "markdown",
      "metadata": {
        "id": "wK4yRDvwvdU4"
      },
      "source": [
        "6 b"
      ]
    },
    {
      "cell_type": "code",
      "metadata": {
        "id": "VZcexdn8veWW"
      },
      "source": [
        " n=int(input(\"Enter the number\")\n",
        "def factorial(n):\n",
        "  if n==1:\n",
        "     return n\n",
        "  else:\n",
        "     return n*factorial (n-1)\n",
        "print (\"The factorial of\",n,\"is\", factorial"
      ],
      "execution_count": null,
      "outputs": []
    },
    {
      "cell_type": "markdown",
      "metadata": {
        "id": "o4ORNVgnvi42"
      },
      "source": [
        "7"
      ]
    },
    {
      "cell_type": "code",
      "metadata": {
        "id": "_wX4lTjrvjsK"
      },
      "source": [
        " str=input (\"Enter the string\")\n",
        "word=input(\"Enter the word to be searched\")\n",
        "print(str.count(word))"
      ],
      "execution_count": null,
      "outputs": []
    }
  ]
}